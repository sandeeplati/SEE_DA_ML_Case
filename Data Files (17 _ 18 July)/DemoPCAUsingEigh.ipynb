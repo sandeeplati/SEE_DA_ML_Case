{
 "cells": [
  {
   "cell_type": "code",
   "execution_count": 2,
   "metadata": {},
   "outputs": [],
   "source": [
    "#THis is PCA done using eigh function\n",
    "import numpy as np"
   ]
  },
  {
   "cell_type": "code",
   "execution_count": 3,
   "metadata": {},
   "outputs": [
    {
     "name": "stdout",
     "output_type": "stream",
     "text": [
      "(7, 5)\n",
      "(5, 5)\n"
     ]
    }
   ],
   "source": [
    "# Assume there are 5 movies  and 7 users\n",
    "#Movies are \"Matrix, ALien, Serenity, Casablanca, Amelie\",users are u1,u2,u3,u4, u5, u6, u7\n",
    "#UserMovies capture the ratings given by each user on a movie\n",
    "UserMovies= np.array([[1, 1, 1, 0, 0], \n",
    "                      [3,3,3,0,0],\n",
    "                     [4,4,4,0,0],\n",
    "                     [5,5,5,0,0],\n",
    "                     [0,2,0,4,4],\n",
    "                     [0,0,0, 5,5],\n",
    "                     [0,1,0,2,2]])\n",
    "#Um = np.dot(UserMovies, UserMovies.T)\n",
    "Um = UserMovies\n",
    "Um = Um/ 7\n",
    "print (UserMovies.shape)\n",
    "# UmCov = np.dot(Um,Um.T)\n",
    "UmCov = np.dot(Um.T,Um)\n",
    "print (UmCov.shape)"
   ]
  },
  {
   "cell_type": "code",
   "execution_count": 4,
   "metadata": {},
   "outputs": [
    {
     "name": "stdout",
     "output_type": "stream",
     "text": [
      "eig_vect_u.shape= (5, 5) \n",
      "eig_vect=\n",
      " [[ 0.56  0.13 -0.71 -0.41  0.  ]\n",
      " [ 0.59 -0.03  0.    0.8   0.  ]\n",
      " [ 0.56  0.13  0.71 -0.41  0.  ]\n",
      " [ 0.09 -0.7  -0.   -0.09 -0.71]\n",
      " [ 0.09 -0.7  -0.   -0.09  0.71]]\n",
      "eig_val_u.shape= (5,) \n",
      "eig_val_u=\n",
      " [3.18 1.85 0.   0.04 0.  ]\n"
     ]
    }
   ],
   "source": [
    "#Lets find the Eigenvectors and eigenvalues of UmCov\n",
    "eig_val_u, eig_vect_u = np.linalg.eig(UmCov)\n",
    "eig_val_u, eig_vect_u = np.round(eig_val_u,2), np.round(eig_vect_u,2)\n",
    "print (\"eig_vect_u.shape=\",eig_vect_u.shape, \"\\neig_vect=\\n\", eig_vect_u)\n",
    "print (\"eig_val_u.shape=\",eig_val_u.shape, \"\\neig_val_u=\\n\", eig_val_u)"
   ]
  },
  {
   "cell_type": "code",
   "execution_count": 5,
   "metadata": {},
   "outputs": [
    {
     "name": "stdout",
     "output_type": "stream",
     "text": [
      "Variance Captured via eig= 0.9921104536489151\n",
      "5.07\n"
     ]
    }
   ],
   "source": [
    "#Lets see what is the variance we will get if we take 2 columns:\n",
    "\n",
    "print (\"Variance Captured via eig=\",(eig_val_u[0]+eig_val_u[1])/np.sum(eig_val_u))\n",
    "print (np.sum(eig_val_u))\n"
   ]
  },
  {
   "cell_type": "code",
   "execution_count": 7,
   "metadata": {},
   "outputs": [
    {
     "name": "stdout",
     "output_type": "stream",
     "text": [
      "(5, 2) (7, 5)\n",
      "(7, 5) (5, 2) (7, 2)\n",
      "XReduced=\n",
      " [[ 0.244  0.033]\n",
      " [ 0.733  0.099]\n",
      " [ 0.977  0.131]\n",
      " [ 1.221  0.164]\n",
      " [ 0.271 -0.809]\n",
      " [ 0.129 -1.   ]\n",
      " [ 0.136 -0.404]]\n"
     ]
    }
   ],
   "source": [
    "#Lets take the 2 columns and extract the vectors corresponding to those columns and find the modified values\n",
    "#Eig way\n",
    "ZEig_2 = eig_vect_u[:,:2]\n",
    "print (ZEig_2.shape, Um.shape)\n",
    "# XEig_2 = np.dot(UmCov, ZEig_2)\n",
    "XEig_2 = np.dot(Um, ZEig_2)\n",
    "XEig_2 = np.round(XEig_2, 3)\n",
    "print (Um.shape, ZEig_2.shape, XEig_2.shape)\n",
    "print(\"XReduced=\\n\", XEig_2)"
   ]
  },
  {
   "cell_type": "code",
   "execution_count": 8,
   "metadata": {},
   "outputs": [
    {
     "name": "stdout",
     "output_type": "stream",
     "text": [
      "Variance Captured via eig= 0.9921104536489151\n",
      "5.07\n",
      "(5, 5) (5, 3) (7, 3)\n",
      "XReduced=\n",
      " [[ 0.244  0.033 -0.   ]\n",
      " [ 0.733  0.099 -0.   ]\n",
      " [ 0.977  0.131 -0.   ]\n",
      " [ 1.221  0.164  0.   ]\n",
      " [ 0.271 -0.809  0.   ]\n",
      " [ 0.129 -1.     0.   ]\n",
      " [ 0.136 -0.404  0.   ]]\n"
     ]
    }
   ],
   "source": [
    "#Lets take the 3 columns and extract the vectors corresponding to those columns and find the modified values\n",
    "#Eig way\n",
    "#Lets find the sum of variances we will retain if we take 3 columns\n",
    "\n",
    "print (\"Variance Captured via eig=\",(eig_val_u[0]+eig_val_u[1]+eig_val_u[2])/np.sum(eig_val_u))\n",
    "print (np.sum(eig_val_u))\n",
    "ZEig_3 = eig_vect_u[:,:3]\n",
    "# XEig_3 = np.dot(UmCov, ZEig_3)\n",
    "XEig_3 = np.dot(Um, ZEig_3)\n",
    "XEig_3 = np.round(XEig_3, 3)\n",
    "print (UmCov.shape, ZEig_3.shape, XEig_3.shape)\n",
    "print(\"XReduced=\\n\", XEig_3)"
   ]
  },
  {
   "cell_type": "code",
   "execution_count": 10,
   "metadata": {},
   "outputs": [],
   "source": [
    "#We have reduced the original (7, 5) to (7,2), and (7,3) using PCA\n",
    "# We can imagine that the 5 movies represent concepts and we have captured those into 2 concepts. We can call them as genres\n",
    "#It so happens that there are only 3 dominant genres in this dataset :-) Is it \"Action\", \"Romance\" and \"Scifi\""
   ]
  },
  {
   "cell_type": "code",
   "execution_count": null,
   "metadata": {},
   "outputs": [],
   "source": []
  }
 ],
 "metadata": {
  "kernelspec": {
   "display_name": "Python 3",
   "language": "python",
   "name": "python3"
  },
  "language_info": {
   "codemirror_mode": {
    "name": "ipython",
    "version": 3
   },
   "file_extension": ".py",
   "mimetype": "text/x-python",
   "name": "python",
   "nbconvert_exporter": "python",
   "pygments_lexer": "ipython3",
   "version": "3.6.2"
  }
 },
 "nbformat": 4,
 "nbformat_minor": 2
}
